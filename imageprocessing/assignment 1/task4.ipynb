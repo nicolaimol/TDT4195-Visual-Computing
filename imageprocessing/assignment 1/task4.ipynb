{
 "cells": [
  {
   "cell_type": "code",
   "execution_count": 1,
   "metadata": {},
   "outputs": [],
   "source": [
    "import torch\n",
    "import torch.nn as nn\n",
    "import matplotlib.pyplot as plt\n",
    "import tqdm\n",
    "import numpy as np\n",
    "import utils\n",
    "import dataloaders\n",
    "import torchvision\n",
    "import pathlib\n",
    "from trainer import Trainer\n",
    "torch.random.manual_seed(0)\n",
    "np.random.seed(0)"
   ]
  },
  {
   "cell_type": "markdown",
   "metadata": {},
   "source": [
    "### Dataset"
   ]
  },
  {
   "cell_type": "code",
   "execution_count": 2,
   "metadata": {},
   "outputs": [
    {
     "name": "stdout",
     "output_type": "stream",
     "text": [
      "The tensor containing the images has shape: torch.Size([64, 1, 28, 28]) (batch size, number of color channels, height, width)\n",
      "\tThe maximum value in the image is 1.0, minimum: 0.0\n"
     ]
    }
   ],
   "source": [
    "# Load the dataset and print some stats\n",
    "batch_size = 64\n",
    "\n",
    "image_transform = torchvision.transforms.Compose([\n",
    "    torchvision.transforms.ToTensor(),\n",
    "])\n",
    "\n",
    "dataloader_train, dataloader_test = dataloaders.load_dataset(batch_size, image_transform)\n",
    "example_images, _ = next(iter(dataloader_train))\n",
    "print(f\"The tensor containing the images has shape: {example_images.shape} (batch size, number of color channels, height, width)\",\n",
    "      f\"The maximum value in the image is {example_images.max()}, minimum: {example_images.min()}\", sep=\"\\n\\t\")"
   ]
  },
  {
   "cell_type": "code",
   "execution_count": 3,
   "metadata": {},
   "outputs": [],
   "source": [
    "def create_model():\n",
    "    \"\"\"\n",
    "        Initializes the mode. Edit the code below if you would like to change the model.\n",
    "    \"\"\"\n",
    "    model = nn.Sequential(\n",
    "        nn.Flatten(), # Flattens the image from shape (batch_size, C, Height, width) to (batch_size, C*height*width)\n",
    "        nn.Linear(28*28*1, 10)\n",
    "        # No need to include softmax, as this is already combined in the loss function\n",
    "    )\n",
    "    # Transfer model to GPU memory if a GPU is available\n",
    "    model = utils.to_cuda(model)\n",
    "    return model\n",
    "\n",
    "\n",
    "model = create_model()"
   ]
  },
  {
   "cell_type": "code",
   "execution_count": 4,
   "metadata": {},
   "outputs": [
    {
     "name": "stdout",
     "output_type": "stream",
     "text": [
      "Output shape: torch.Size([64, 10])\n"
     ]
    }
   ],
   "source": [
    "# Test if the model is able to do a single forward pass\n",
    "example_images = utils.to_cuda(example_images)\n",
    "output = model(example_images)\n",
    "print(\"Output shape:\", output.shape)\n",
    "expected_shape = (batch_size, 10) # 10 since mnist has 10 different classes\n",
    "assert output.shape == expected_shape,    f\"Expected shape: {expected_shape}, but got: {output.shape}\""
   ]
  },
  {
   "cell_type": "markdown",
   "metadata": {},
   "source": [
    "### Hyperparameters & Loss function"
   ]
  },
  {
   "cell_type": "code",
   "execution_count": 5,
   "metadata": {},
   "outputs": [],
   "source": [
    "# Hyperparameters\n",
    "learning_rate = .0192\n",
    "num_epochs = 5\n",
    "\n",
    "\n",
    "# Use CrossEntropyLoss for multi-class classification\n",
    "loss_function = torch.nn.CrossEntropyLoss()\n",
    "\n",
    "# Define optimizer (Stochastic Gradient Descent)\n",
    "optimizer = torch.optim.SGD(model.parameters(),\n",
    "                            lr=learning_rate)"
   ]
  },
  {
   "cell_type": "markdown",
   "metadata": {},
   "source": [
    "### Train model"
   ]
  },
  {
   "cell_type": "code",
   "execution_count": 6,
   "metadata": {},
   "outputs": [],
   "source": [
    "trainer = Trainer(\n",
    "  model=model,\n",
    "  dataloader_train=dataloader_train,\n",
    "  dataloader_test=dataloader_test,\n",
    "  batch_size=batch_size,\n",
    "  loss_function=loss_function,\n",
    "  optimizer=optimizer\n",
    ")\n",
    "#train_loss_dict, test_loss_dict = trainer.train(num_epochs)"
   ]
  },
  {
   "cell_type": "code",
   "execution_count": 7,
   "metadata": {},
   "outputs": [
    {
     "data": {
      "text/plain": [
       "'\\n# Plot loss\\nutils.plot_loss(train_loss_dict, label=\"Train Loss\")\\nutils.plot_loss(test_loss_dict, label=\"Test Loss\")\\n# Limit the y-axis of the plot (The range should not be increased!)\\nplt.ylim([0, 1])\\nplt.legend()\\nplt.xlabel(\"Global Training Step\")\\nplt.ylabel(\"Cross Entropy Loss\")\\nplt.savefig(\"image_solutions/task_4a.png\")\\n\\nplt.show()\\n\\n#torch.save(model.state_dict(), \"saved_model.torch\")\\n#final_loss, final_acc = utils.compute_loss_and_accuracy(\\n#    dataloader_test, model, loss_function)\\n#print(f\"Final Test loss: {final_loss}. Final Test accuracy: {final_acc}\")\\n'"
      ]
     },
     "execution_count": 7,
     "metadata": {},
     "output_type": "execute_result"
    }
   ],
   "source": [
    "# We can now plot the training loss with our utility script\n",
    "\"\"\"\n",
    "# Plot loss\n",
    "utils.plot_loss(train_loss_dict, label=\"Train Loss\")\n",
    "utils.plot_loss(test_loss_dict, label=\"Test Loss\")\n",
    "# Limit the y-axis of the plot (The range should not be increased!)\n",
    "plt.ylim([0, 1])\n",
    "plt.legend()\n",
    "plt.xlabel(\"Global Training Step\")\n",
    "plt.ylabel(\"Cross Entropy Loss\")\n",
    "plt.savefig(\"image_solutions/task_4a.png\")\n",
    "\n",
    "plt.show()\n",
    "\n",
    "#torch.save(model.state_dict(), \"saved_model.torch\")\n",
    "#final_loss, final_acc = utils.compute_loss_and_accuracy(\n",
    "#    dataloader_test, model, loss_function)\n",
    "#print(f\"Final Test loss: {final_loss}. Final Test accuracy: {final_acc}\")\n",
    "\"\"\""
   ]
  },
  {
   "cell_type": "markdown",
   "metadata": {},
   "source": [
    "## Plotting example"
   ]
  },
  {
   "cell_type": "code",
   "execution_count": 8,
   "metadata": {},
   "outputs": [
    {
     "data": {
      "text/plain": [
       "'# You can delete the remaining code of this notebook, as this is just to illustrate one method to solve the assignment tasks.\\n\\n\\n# This example code is here to illustrate how you can plot two different models to compare them.\\n# Lets change a small part of our model: the number of epochs trained (NOTE, use 5 epochs for your experiments in the assignment.)\\n\\n# We reset the manual seed to 0, such that the model parameters are initialized with the same random number generator.\\ntorch.random.manual_seed(0)\\nnp.random.seed(0)\\n\\n\\ndataloader_train, dataloader_test = dataloaders.load_dataset(batch_size, image_transform)\\nmodel = create_model()\\n\\nlearning_rate = .0192\\nnum_epochs = 6\\n\\n# Redefine optimizer, as we have a new model.\\noptimizer = torch.optim.SGD(model.parameters(),\\n                            lr=learning_rate)\\ntrainer = Trainer(\\n  model=model,\\n  dataloader_train=dataloader_train,\\n  dataloader_test=dataloader_test,\\n  batch_size=batch_size,\\n  loss_function=loss_function,\\n  optimizer=optimizer\\n)\\n#train_loss_dict_6epochs, test_loss_dict_6epochs = trainer.train(num_epochs)\\nnum_epochs = 5'"
      ]
     },
     "execution_count": 8,
     "metadata": {},
     "output_type": "execute_result"
    }
   ],
   "source": [
    "\"\"\"# You can delete the remaining code of this notebook, as this is just to illustrate one method to solve the assignment tasks.\n",
    "\n",
    "\n",
    "# This example code is here to illustrate how you can plot two different models to compare them.\n",
    "# Lets change a small part of our model: the number of epochs trained (NOTE, use 5 epochs for your experiments in the assignment.)\n",
    "\n",
    "# We reset the manual seed to 0, such that the model parameters are initialized with the same random number generator.\n",
    "torch.random.manual_seed(0)\n",
    "np.random.seed(0)\n",
    "\n",
    "\n",
    "dataloader_train, dataloader_test = dataloaders.load_dataset(batch_size, image_transform)\n",
    "model = create_model()\n",
    "\n",
    "learning_rate = .0192\n",
    "num_epochs = 6\n",
    "\n",
    "# Redefine optimizer, as we have a new model.\n",
    "optimizer = torch.optim.SGD(model.parameters(),\n",
    "                            lr=learning_rate)\n",
    "trainer = Trainer(\n",
    "  model=model,\n",
    "  dataloader_train=dataloader_train,\n",
    "  dataloader_test=dataloader_test,\n",
    "  batch_size=batch_size,\n",
    "  loss_function=loss_function,\n",
    "  optimizer=optimizer\n",
    ")\n",
    "#train_loss_dict_6epochs, test_loss_dict_6epochs = trainer.train(num_epochs)\n",
    "num_epochs = 5\"\"\""
   ]
  },
  {
   "cell_type": "code",
   "execution_count": 9,
   "metadata": {},
   "outputs": [
    {
     "data": {
      "text/plain": [
       "'# We can now plot the two models against eachother\\n\\n# Plot loss\\nutils.plot_loss(train_loss_dict_6epochs, label=\"Train Loss - Model trained with 6 epochs\")\\nutils.plot_loss(test_loss_dict_6epochs, label=\"Test Loss - Model trained with 6 epochs\")\\nutils.plot_loss(train_loss_dict, label=\"Train Loss - Original model\")\\nutils.plot_loss(test_loss_dict, label=\"Test Loss - Original model\")\\n# Limit the y-axis of the plot (The range should not be increased!)\\nplt.ylim([0, 1])\\nplt.legend()\\nplt.xlabel(\"Global Training Step\")\\nplt.ylabel(\"Cross Entropy Loss\")\\nplt.savefig(\"image_solutions/task_4a.png\")\\n\\nplt.show()\\n\\n#torch.save(model.state_dict(), \"saved_model.torch\")\\nfinal_loss, final_acc = utils.compute_loss_and_accuracy(\\n    dataloader_test, model, loss_function)\\nprint(f\"Final Test loss: {final_loss}. Final Test accuracy: {final_acc}\")\\n'"
      ]
     },
     "execution_count": 9,
     "metadata": {},
     "output_type": "execute_result"
    }
   ],
   "source": [
    "\"\"\"# We can now plot the two models against eachother\n",
    "\n",
    "# Plot loss\n",
    "utils.plot_loss(train_loss_dict_6epochs, label=\"Train Loss - Model trained with 6 epochs\")\n",
    "utils.plot_loss(test_loss_dict_6epochs, label=\"Test Loss - Model trained with 6 epochs\")\n",
    "utils.plot_loss(train_loss_dict, label=\"Train Loss - Original model\")\n",
    "utils.plot_loss(test_loss_dict, label=\"Test Loss - Original model\")\n",
    "# Limit the y-axis of the plot (The range should not be increased!)\n",
    "plt.ylim([0, 1])\n",
    "plt.legend()\n",
    "plt.xlabel(\"Global Training Step\")\n",
    "plt.ylabel(\"Cross Entropy Loss\")\n",
    "plt.savefig(\"image_solutions/task_4a.png\")\n",
    "\n",
    "plt.show()\n",
    "\n",
    "#torch.save(model.state_dict(), \"saved_model.torch\")\n",
    "final_loss, final_acc = utils.compute_loss_and_accuracy(\n",
    "    dataloader_test, model, loss_function)\n",
    "print(f\"Final Test loss: {final_loss}. Final Test accuracy: {final_acc}\")\n",
    "\"\"\""
   ]
  },
  {
   "cell_type": "markdown",
   "metadata": {},
   "source": [
    "### Task A"
   ]
  },
  {
   "cell_type": "code",
   "execution_count": 10,
   "metadata": {},
   "outputs": [
    {
     "name": "stderr",
     "output_type": "stream",
     "text": [
      "Training epoch 0: 100%|██████████| 938/938 [00:04<00:00, 201.06it/s]\n",
      "Training epoch 1: 100%|██████████| 938/938 [00:04<00:00, 188.77it/s]\n",
      "Training epoch 2: 100%|██████████| 938/938 [00:04<00:00, 201.04it/s]\n",
      "Training epoch 3: 100%|██████████| 938/938 [00:04<00:00, 199.47it/s]\n",
      "Training epoch 4: 100%|██████████| 938/938 [00:05<00:00, 184.68it/s]\n"
     ]
    }
   ],
   "source": [
    "torch.random.manual_seed(0)\n",
    "np.random.seed(0)\n",
    "\n",
    "\n",
    "dataloader_train_a, dataloader_test_a = dataloaders.load_dataset(batch_size, image_transform)\n",
    "model_a = create_model()\n",
    "\n",
    "loss_function_a = torch.nn.CrossEntropyLoss()\n",
    "\n",
    "# Redefine optimizer, as we have a new model.\n",
    "optimizer_a = torch.optim.SGD(model_a.parameters(),\n",
    "                            lr=learning_rate)\n",
    "trainer = Trainer(\n",
    "  model=model_a,\n",
    "  dataloader_train=dataloader_train_a,\n",
    "  dataloader_test=dataloader_test_a,\n",
    "  batch_size=batch_size,\n",
    "  loss_function=loss_function_a,\n",
    "  optimizer=optimizer_a\n",
    ")\n",
    "train_loss_dict_a, test_loss_dict_a = trainer.train(num_epochs)"
   ]
  },
  {
   "cell_type": "code",
   "execution_count": 11,
   "metadata": {},
   "outputs": [
    {
     "name": "stdout",
     "output_type": "stream",
     "text": [
      "Final Test loss: 0.3363896762584425. Final Test accuracy: 0.9083\n"
     ]
    }
   ],
   "source": [
    "final_loss_a, final_acc_a = utils.compute_loss_and_accuracy(\n",
    "    dataloader_test_a, model_a, loss_function_a)\n",
    "print(f\"Final Test loss: {final_loss_a}. Final Test accuracy: {final_acc_a}\")"
   ]
  },
  {
   "cell_type": "code",
   "execution_count": 12,
   "metadata": {},
   "outputs": [
    {
     "name": "stderr",
     "output_type": "stream",
     "text": [
      "Training epoch 0: 100%|██████████| 938/938 [00:07<00:00, 133.29it/s]\n",
      "Training epoch 1: 100%|██████████| 938/938 [00:06<00:00, 142.29it/s]\n",
      "Training epoch 2: 100%|██████████| 938/938 [00:06<00:00, 141.61it/s]\n",
      "Training epoch 3: 100%|██████████| 938/938 [00:07<00:00, 125.85it/s]\n",
      "Training epoch 4: 100%|██████████| 938/938 [00:06<00:00, 141.25it/s]\n"
     ]
    }
   ],
   "source": [
    "image_transform_norm = torchvision.transforms.Compose([\n",
    "    torchvision.transforms.ToTensor(),\n",
    "    torchvision.transforms.Normalize(0.5, 0.5)\n",
    "])\n",
    "\n",
    "dataloader_train_a_normal, dataloader_test_a_normal = dataloaders.load_dataset(batch_size, image_transform_norm)\n",
    "model_a_normal = create_model()\n",
    "\n",
    "optimizer_a_normal = torch.optim.SGD(model_a_normal.parameters(),\n",
    "                            lr=learning_rate)\n",
    "\n",
    "\n",
    "trainer = Trainer(\n",
    "  model=model_a_normal,\n",
    "  dataloader_train=dataloader_train_a_normal,\n",
    "  dataloader_test=dataloader_test_a_normal,\n",
    "  batch_size=batch_size,\n",
    "  loss_function=loss_function,\n",
    "  optimizer=optimizer_a_normal\n",
    ")\n",
    "train_loss_dict_a_normal, test_loss_dict_a_normal = trainer.train(num_epochs)"
   ]
  },
  {
   "cell_type": "code",
   "execution_count": 13,
   "metadata": {},
   "outputs": [
    {
     "name": "stdout",
     "output_type": "stream",
     "text": [
      "Final Test loss: 0.2952012259418228. Final Test accuracy: 0.9151\n"
     ]
    }
   ],
   "source": [
    "\n",
    "final_loss_a_normal, final_acc_a_normal = utils.compute_loss_and_accuracy(\n",
    "    dataloader_test_a_normal, model_a_normal, loss_function)\n",
    "print(f\"Final Test loss: {final_loss_a_normal}. Final Test accuracy: {final_acc_a_normal}\")"
   ]
  },
  {
   "cell_type": "code",
   "execution_count": 14,
   "metadata": {},
   "outputs": [
    {
     "data": {
      "image/png": "[encoded data removed]",
      "text/plain": [
       "<Figure size 432x288 with 1 Axes>"
      ]
     },
     "metadata": {
      "needs_background": "light"
     },
     "output_type": "display_data"
    }
   ],
   "source": [
    "# Plot loss\n",
    "utils.plot_loss(train_loss_dict_a, label=\"Train Loss - a\")\n",
    "utils.plot_loss(test_loss_dict_a, label=\"Test Loss - a\")\n",
    "utils.plot_loss(train_loss_dict_a_normal, label=\"Train Loss - a normal\")\n",
    "utils.plot_loss(test_loss_dict_a_normal, label=\"Test Loss - a normal\")\n",
    "\n",
    "plt.ylim([0, 1])\n",
    "plt.legend()\n",
    "plt.xlabel(\"Global Training Step\")\n",
    "plt.ylabel(\"Cross Entropy Loss\")\n",
    "plt.savefig(\"image_solutions/task_4a.png\")\n",
    "\n",
    "plt.show()"
   ]
  },
  {
   "cell_type": "markdown",
   "metadata": {},
   "source": [
    "### Task B"
   ]
  },
  {
   "cell_type": "code",
   "execution_count": 15,
   "metadata": {},
   "outputs": [
    {
     "name": "stdout",
     "output_type": "stream",
     "text": [
      "Warning: The dynamic range of the image is [-0.39210280776023865, 0.21558155119419098] normalizing to [-1, 1]\n",
      "Warning: The dynamic range of the image is [-0.26167964935302734, 0.4842360317707062] normalizing to [-1, 1]\n",
      "Warning: The dynamic range of the image is [-0.3358568251132965, 0.23504316806793213] normalizing to [-1, 1]\n",
      "Warning: The dynamic range of the image is [-0.2920975983142853, 0.20462632179260254] normalizing to [-1, 1]\n",
      "Warning: The dynamic range of the image is [-0.35651716589927673, 0.30823326110839844] normalizing to [-1, 1]\n",
      "Warning: The dynamic range of the image is [-0.27077415585517883, 0.3216609060764313] normalizing to [-1, 1]\n",
      "Warning: The dynamic range of the image is [-0.34835532307624817, 0.30701202154159546] normalizing to [-1, 1]\n",
      "Warning: The dynamic range of the image is [-0.39848509430885315, 0.3007659912109375] normalizing to [-1, 1]\n",
      "Warning: The dynamic range of the image is [-0.17257899045944214, 0.25426530838012695] normalizing to [-1, 1]\n",
      "Warning: The dynamic range of the image is [-0.24341881275177002, 0.40067631006240845] normalizing to [-1, 1]\n"
     ]
    }
   ],
   "source": [
    "output_dir_images = pathlib.Path(\"image_solutions\")\n",
    "output_dir_images.mkdir(exist_ok=True)\n",
    "\n",
    "weight_image_array = np.zeros(shape=(28, 28))\n",
    "weight_tensors = list(model_a.children())[1].weight.cpu().data\n",
    "\n",
    "# 10 tensors since we have 0-9 classes\n",
    "for tensor_index, tensor in enumerate(weight_tensors):\n",
    "    # Each tensor has length 28x28\n",
    "    for index, value in enumerate(tensor):\n",
    "        weight_image_array[index // 28, index % 28] = value\n",
    "    \n",
    "    utils.save_im(output_dir_images.joinpath(f\"weights{tensor_index}.jpg\"), weight_image_array, cmap=\"gray\")"
   ]
  },
  {
   "cell_type": "markdown",
   "metadata": {},
   "source": [
    "### Task C"
   ]
  },
  {
   "cell_type": "code",
   "execution_count": 16,
   "metadata": {},
   "outputs": [
    {
     "name": "stderr",
     "output_type": "stream",
     "text": [
      "Training epoch 0: 100%|██████████| 938/938 [00:07<00:00, 133.66it/s]\n",
      "Training epoch 1: 100%|██████████| 938/938 [00:07<00:00, 130.46it/s]\n",
      "Training epoch 2: 100%|██████████| 938/938 [00:06<00:00, 137.21it/s]\n",
      "Training epoch 3: 100%|██████████| 938/938 [00:06<00:00, 140.99it/s]\n",
      "Training epoch 4: 100%|██████████| 938/938 [00:06<00:00, 134.03it/s]\n"
     ]
    }
   ],
   "source": [
    "torch.random.manual_seed(0)\n",
    "np.random.seed(0)\n",
    "\n",
    "\n",
    "dataloader_train_c, dataloader_test_c = dataloaders.load_dataset(batch_size, image_transform_norm)\n",
    "model_c = create_model()\n",
    "\n",
    "loss_function_c = torch.nn.CrossEntropyLoss()\n",
    "\n",
    "# Redefine optimizer, as we have a new model.\n",
    "optimizer_c = torch.optim.SGD(model_c.parameters(),\n",
    "                            lr=1.0)\n",
    "trainer = Trainer(\n",
    "  model=model_c,\n",
    "  dataloader_train=dataloader_train_c,\n",
    "  dataloader_test=dataloader_test_c,\n",
    "  batch_size=batch_size,\n",
    "  loss_function=loss_function_c,\n",
    "  optimizer=optimizer_c\n",
    ")\n",
    "train_loss_dict_c, test_loss_dict_c = trainer.train(num_epochs)"
   ]
  },
  {
   "cell_type": "code",
   "execution_count": 17,
   "metadata": {},
   "outputs": [
    {
     "name": "stdout",
     "output_type": "stream",
     "text": [
      "Final Test loss: 4.9587852840970275. Final Test accuracy: 0.7967\n"
     ]
    }
   ],
   "source": [
    "final_loss_c, final_acc_c = utils.compute_loss_and_accuracy(\n",
    "    dataloader_test_c, model_c, loss_function_c)\n",
    "print(f\"Final Test loss: {final_loss_c}. Final Test accuracy: {final_acc_c}\")"
   ]
  },
  {
   "cell_type": "code",
   "execution_count": 18,
   "metadata": {},
   "outputs": [
    {
     "data": {
      "image/png": "[encoded data removed]",
      "text/plain": [
       "<Figure size 432x288 with 1 Axes>"
      ]
     },
     "metadata": {
      "needs_background": "light"
     },
     "output_type": "display_data"
    }
   ],
   "source": [
    "# Plot loss\n",
    "utils.plot_loss(train_loss_dict_c, label=\"Train Loss - c\")\n",
    "utils.plot_loss(test_loss_dict_c, label=\"Test Loss - c\")\n",
    "\n",
    "plt.ylim([0, 40])\n",
    "plt.legend()\n",
    "plt.xlabel(\"Global Training Step\")\n",
    "plt.ylabel(\"Cross Entropy Loss\")\n",
    "plt.savefig(\"image_solutions/task_4c.png\")\n",
    "\n",
    "plt.show()"
   ]
  },
  {
   "cell_type": "markdown",
   "metadata": {},
   "source": [
    "### Task D"
   ]
  },
  {
   "cell_type": "code",
   "execution_count": 19,
   "metadata": {},
   "outputs": [],
   "source": [
    "def create_model_d():\n",
    "    \"\"\"\n",
    "        Initializes the mode. Edit the code below if you would like to change the model.\n",
    "    \"\"\"\n",
    "    model = nn.Sequential(\n",
    "        nn.Flatten(), # Flattens the image from shape (batch_size, C, Height, width) to (batch_size, C*height*width)\n",
    "        nn.Linear(28*28*1, 64),\n",
    "        # No need to include softmax, as this is already combined in the loss function\n",
    "        nn.ReLU(),  # ReLU as activation funciton for the layer above\n",
    "        nn.Linear(64, 10),  # 64 inputs, 10 outputs\n",
    "    )\n",
    "    # Transfer model to GPU memory if a GPU is available\n",
    "    model = utils.to_cuda(model)\n",
    "    return model"
   ]
  },
  {
   "cell_type": "code",
   "execution_count": 20,
   "metadata": {
    "scrolled": true
   },
   "outputs": [
    {
     "name": "stderr",
     "output_type": "stream",
     "text": [
      "Training epoch 0: 100%|██████████| 938/938 [00:07<00:00, 129.42it/s]\n",
      "Training epoch 1: 100%|██████████| 938/938 [00:07<00:00, 130.68it/s]\n",
      "Training epoch 2: 100%|██████████| 938/938 [00:08<00:00, 113.44it/s]\n",
      "Training epoch 3: 100%|██████████| 938/938 [00:07<00:00, 129.93it/s]\n",
      "Training epoch 4: 100%|██████████| 938/938 [00:07<00:00, 129.66it/s]\n"
     ]
    }
   ],
   "source": [
    "torch.random.manual_seed(0)\n",
    "np.random.seed(0)\n",
    "\n",
    "\n",
    "dataloader_train_d, dataloader_test_d = dataloaders.load_dataset(batch_size, image_transform_norm)\n",
    "model_d = create_model_d()\n",
    "\n",
    "loss_function_d = torch.nn.CrossEntropyLoss()\n",
    "\n",
    "# Redefine optimizer, as we have a new model.\n",
    "optimizer_d = torch.optim.SGD(model_d.parameters(),\n",
    "                            lr=learning_rate)\n",
    "trainer = Trainer(\n",
    "  model=model_d,\n",
    "  dataloader_train=dataloader_train_d,\n",
    "  dataloader_test=dataloader_test_d,\n",
    "  batch_size=batch_size,\n",
    "  loss_function=loss_function_d,\n",
    "  optimizer=optimizer_d\n",
    ")\n",
    "train_loss_dict_d, test_loss_dict_d = trainer.train(num_epochs)"
   ]
  },
  {
   "cell_type": "code",
   "execution_count": 21,
   "metadata": {},
   "outputs": [
    {
     "name": "stdout",
     "output_type": "stream",
     "text": [
      "Final Test loss: 0.21728395270243003. Final Test accuracy: 0.9369\n"
     ]
    }
   ],
   "source": [
    "final_loss_d, final_acc_d = utils.compute_loss_and_accuracy(\n",
    "    dataloader_test_d, model_d, loss_function_d)\n",
    "print(f\"Final Test loss: {final_loss_d}. Final Test accuracy: {final_acc_d}\")"
   ]
  },
  {
   "cell_type": "code",
   "execution_count": 22,
   "metadata": {},
   "outputs": [
    {
     "data": {
      "image/png": "[encoded data removed]",
      "text/plain": [
       "<Figure size 432x288 with 1 Axes>"
      ]
     },
     "metadata": {
      "needs_background": "light"
     },
     "output_type": "display_data"
    }
   ],
   "source": [
    "# Plot loss\n",
    "utils.plot_loss(train_loss_dict_d, label=\"Train Loss - d\")\n",
    "utils.plot_loss(test_loss_dict_d, label=\"Test Loss - d\")\n",
    "utils.plot_loss(train_loss_dict_a, label=\"Train Loss - a\")\n",
    "utils.plot_loss(test_loss_dict_a, label=\"Test Loss - a\")\n",
    "utils.plot_loss(train_loss_dict_a_normal, label=\"Train Loss - a normal\")\n",
    "utils.plot_loss(test_loss_dict_a_normal, label=\"Test Loss - a normal\")\n",
    "\n",
    "plt.ylim([0, 1])\n",
    "plt.legend()\n",
    "plt.xlabel(\"Global Training Step\")\n",
    "plt.ylabel(\"Cross Entropy Loss\")\n",
    "plt.savefig(\"image_solutions/task_4d.png\")\n",
    "\n",
    "plt.show()"
   ]
  },
  {
   "cell_type": "code",
   "execution_count": null,
   "metadata": {},
   "outputs": [],
   "source": []
  }
 ],
 "metadata": {
  "kernelspec": {
   "display_name": "Python 3",
   "language": "python",
   "name": "python3"
  },
  "language_info": {
   "codemirror_mode": {
    "name": "ipython",
    "version": 3
   },
   "file_extension": ".py",
   "mimetype": "text/x-python",
   "name": "python",
   "nbconvert_exporter": "python",
   "pygments_lexer": "ipython3",
   "version": "3.6.13"
  }
 },
 "nbformat": 4,
 "nbformat_minor": 4
}
